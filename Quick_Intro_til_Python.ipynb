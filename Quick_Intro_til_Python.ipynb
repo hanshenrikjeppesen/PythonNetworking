{
  "nbformat": 4,
  "nbformat_minor": 0,
  "metadata": {
    "colab": {
      "provenance": [],
      "authorship_tag": "ABX9TyOzHix4svv653xbXniU7RCy",
      "include_colab_link": true
    },
    "kernelspec": {
      "name": "python3",
      "display_name": "Python 3"
    },
    "language_info": {
      "name": "python"
    }
  },
  "cells": [
    {
      "cell_type": "markdown",
      "metadata": {
        "id": "view-in-github",
        "colab_type": "text"
      },
      "source": [
        "<a href=\"https://colab.research.google.com/github/hanshenrikjeppesen/PythonNetworking/blob/master/Quick_Intro_til_Python.ipynb\" target=\"_parent\"><img src=\"https://colab.research.google.com/assets/colab-badge.svg\" alt=\"Open In Colab\"/></a>"
      ]
    },
    {
      "cell_type": "markdown",
      "source": [
        "## Python og IT-sikkerhed: En Uundværlig Forbindelse\n",
        "\n",
        "Vi har valgt at bruge programmeringssproget Python gennem hele studieforløbet, og dette valg er ikke tilfældigt. Tværtimod er det bevidst, da Python udgør en afgørende komponent inden for it-sikkerhed. Her vil jeg forsøge at belyse, hvorfor vi har truffet dette valg, og hvorfor det er afgørende for jer som studerende at investere tid i at udvikle jeres færdigheder inden for Python.\n",
        "\n",
        "Denne notesbog hænger sammen med et [obsidian site](https://publish.obsidian.md/its-eaaa/Intro_IT-Sikkerhed/PYTHON/Kort+intro+til+Python) som du kan finde her:\n",
        "\n",
        "https://publish.obsidian.md/its-eaaa/Intro_IT-Sikkerhed/PYTHON/Kort+intro+til+Python"
      ],
      "metadata": {
        "id": "f7rwarELaazR"
      }
    },
    {
      "cell_type": "code",
      "execution_count": null,
      "metadata": {
        "colab": {
          "base_uri": "https://localhost:8080/"
        },
        "id": "g6cfp8MRaR_K",
        "outputId": "e6760fde-5505-4c6e-d7d7-e4747e430e3d"
      },
      "outputs": [
        {
          "output_type": "stream",
          "name": "stdout",
          "text": [
            "<class 'list'>\n"
          ]
        }
      ],
      "source": [
        "response = [200, 403, 400, 500]\n",
        "print(type(response))"
      ]
    },
    {
      "cell_type": "markdown",
      "source": [
        "Et indeks bruges til at få adgang til et element i en liste. En indeks er et heltal, der angiver positionen af et element i en liste. Det første element i en liste starter altid ved indeks 0."
      ],
      "metadata": {
        "id": "2J3ddwGkaZBA"
      }
    },
    {
      "cell_type": "code",
      "source": [
        "response[0]"
      ],
      "metadata": {
        "colab": {
          "base_uri": "https://localhost:8080/"
        },
        "id": "viHDF6SjcFko",
        "outputId": "fe4959e0-0ee5-46ab-e7b6-ed2884056f95"
      },
      "execution_count": null,
      "outputs": [
        {
          "output_type": "execute_result",
          "data": {
            "text/plain": [
              "200"
            ]
          },
          "metadata": {},
          "execution_count": 21
        }
      ]
    },
    {
      "cell_type": "code",
      "source": [
        "response[3]"
      ],
      "metadata": {
        "colab": {
          "base_uri": "https://localhost:8080/"
        },
        "id": "0RerxZaxcvm-",
        "outputId": "cc6a21ba-b9f3-40ad-94fd-fc7427fb1c3a"
      },
      "execution_count": null,
      "outputs": [
        {
          "output_type": "execute_result",
          "data": {
            "text/plain": [
              "500"
            ]
          },
          "metadata": {},
          "execution_count": 22
        }
      ]
    },
    {
      "cell_type": "code",
      "source": [
        "response[-1]"
      ],
      "metadata": {
        "colab": {
          "base_uri": "https://localhost:8080/"
        },
        "id": "QOWGi6DLdF59",
        "outputId": "3552095c-f370-496d-c47a-b1f4799a27eb"
      },
      "execution_count": null,
      "outputs": [
        {
          "output_type": "execute_result",
          "data": {
            "text/plain": [
              "500"
            ]
          },
          "metadata": {},
          "execution_count": 23
        }
      ]
    },
    {
      "cell_type": "code",
      "source": [
        "403 in response"
      ],
      "metadata": {
        "colab": {
          "base_uri": "https://localhost:8080/"
        },
        "id": "tO3srJy0qUFE",
        "outputId": "3fcc144e-f8cd-4a66-b0cd-fc1d2b2106f1"
      },
      "execution_count": null,
      "outputs": [
        {
          "output_type": "execute_result",
          "data": {
            "text/plain": [
              "True"
            ]
          },
          "metadata": {},
          "execution_count": 24
        }
      ]
    },
    {
      "cell_type": "code",
      "source": [
        "303 not in response"
      ],
      "metadata": {
        "colab": {
          "base_uri": "https://localhost:8080/"
        },
        "id": "YWTi8AJeqfp1",
        "outputId": "92737a11-01fb-4b62-9ec1-a5d9968a26b3"
      },
      "execution_count": null,
      "outputs": [
        {
          "output_type": "execute_result",
          "data": {
            "text/plain": [
              "True"
            ]
          },
          "metadata": {},
          "execution_count": 25
        }
      ]
    },
    {
      "cell_type": "code",
      "source": [
        "len(response)"
      ],
      "metadata": {
        "colab": {
          "base_uri": "https://localhost:8080/"
        },
        "id": "LqIOSiNbSSMC",
        "outputId": "f7eac341-62ee-4187-fb7e-a63c5796a888"
      },
      "execution_count": null,
      "outputs": [
        {
          "output_type": "execute_result",
          "data": {
            "text/plain": [
              "4"
            ]
          },
          "metadata": {},
          "execution_count": 26
        }
      ]
    },
    {
      "cell_type": "code",
      "source": [
        "response.count(403)"
      ],
      "metadata": {
        "colab": {
          "base_uri": "https://localhost:8080/"
        },
        "id": "a-pZ4jy_Slzp",
        "outputId": "9af29b89-0465-40e6-c2bb-d3ca9ddfe6b0"
      },
      "execution_count": null,
      "outputs": [
        {
          "output_type": "execute_result",
          "data": {
            "text/plain": [
              "1"
            ]
          },
          "metadata": {},
          "execution_count": 27
        }
      ]
    },
    {
      "cell_type": "code",
      "source": [
        "response.index(403)"
      ],
      "metadata": {
        "colab": {
          "base_uri": "https://localhost:8080/"
        },
        "id": "vod2lTEwS43b",
        "outputId": "d2ff768b-de93-4a1b-ffe5-b844e66e1c4e"
      },
      "execution_count": null,
      "outputs": [
        {
          "output_type": "execute_result",
          "data": {
            "text/plain": [
              "1"
            ]
          },
          "metadata": {},
          "execution_count": 28
        }
      ]
    },
    {
      "cell_type": "code",
      "source": [
        "response.count(303)"
      ],
      "metadata": {
        "colab": {
          "base_uri": "https://localhost:8080/"
        },
        "id": "X2FphrEJSsMa",
        "outputId": "e60b9eec-2ea8-4ba2-b67d-23e7913c6dbb"
      },
      "execution_count": null,
      "outputs": [
        {
          "output_type": "execute_result",
          "data": {
            "text/plain": [
              "0"
            ]
          },
          "metadata": {},
          "execution_count": 29
        }
      ]
    },
    {
      "cell_type": "code",
      "source": [
        "sorted(response)"
      ],
      "metadata": {
        "colab": {
          "base_uri": "https://localhost:8080/"
        },
        "id": "jl2RtrPDr9p4",
        "outputId": "62998f9a-1933-458a-aaaf-8f1a8a72cd6c"
      },
      "execution_count": null,
      "outputs": [
        {
          "output_type": "execute_result",
          "data": {
            "text/plain": [
              "[200, 400, 403, 500]"
            ]
          },
          "metadata": {},
          "execution_count": 32
        }
      ]
    },
    {
      "cell_type": "code",
      "source": [
        "sorted(response, reverse = True)"
      ],
      "metadata": {
        "colab": {
          "base_uri": "https://localhost:8080/"
        },
        "id": "HF8QXbzbs5jL",
        "outputId": "1920a7cf-fe1d-49d6-94de-b134c78c0564"
      },
      "execution_count": null,
      "outputs": [
        {
          "output_type": "execute_result",
          "data": {
            "text/plain": [
              "[500, 403, 400, 200]"
            ]
          },
          "metadata": {},
          "execution_count": 31
        }
      ]
    },
    {
      "cell_type": "markdown",
      "source": [
        "## En muligløsning på opgave 1:\n",
        "Fremsøg RFC 9110 HTTP Semantics find afsnittet om status codes (afsnit 15) og lav en liste med minimum 10 mulige status codes. Nu er opgaven at finde frem til det største tal i listen og hvilket indeks dette tal har i listen? Python har en række indbygget funktioner, mon ikke der er hjælp at hente der?\n",
        "\n",
        "En løsning kunne se sådan ud:"
      ],
      "metadata": {
        "id": "ivsJuJkTDuF8"
      }
    },
    {
      "cell_type": "code",
      "source": [
        "status_codes = [100, 200, 204, 301, 302, 307, 308, 403, 404, 408, 500, 502, 505]\n",
        "max_number = max(status_codes)\n",
        "max_index = status_codes.index(max_number)\n",
        "print(f'Det største tal i min liste er {max_number} og det er placeret som indeks nummer {max_index}')"
      ],
      "metadata": {
        "colab": {
          "base_uri": "https://localhost:8080/"
        },
        "id": "wseyhp_oD6Tl",
        "outputId": "980d97f1-d4d7-4736-e4fe-4ad24a9be729"
      },
      "execution_count": null,
      "outputs": [
        {
          "output_type": "stream",
          "name": "stdout",
          "text": [
            "Det største tal i min liste er 505 og det er placeret som indeks nummer 12\n"
          ]
        }
      ]
    },
    {
      "cell_type": "markdown",
      "source": [
        "[Python list methods](https://www.w3schools.com/python/python_lists_methods.asp) giver os altså nogle gode muligheder for at arbejde med data. Nu vil vi kigge på `append(), index() og remove()`\n",
        "\n",
        "Jeg vil benytte [common ports cheat sheet](https://packetlife.net/media/library/23/common_ports.pdf)\n",
        "som kan hentes via [packetlife.net](https://packetlife.net/) som drives af Jeremy Stretch hovedperson og lead maintainer af [netbox](https://docs.netbox.dev/en/stable/)\n",
        "\n",
        "Hvis du er havnet her fra samlingen af instruktionsmateriale kan du hoppe tilbage via dette [link](https://it-sikkerhed.org/Intro_IT-Sikkerhed/PYTHON/Kort+intro+til+Python#Python+list+metoder):\n",
        "\n",
        "https://it-sikkerhed.org/Intro_IT-Sikkerhed/PYTHON/Kort+intro+til+Python#Python+list+metoder\n"
      ],
      "metadata": {
        "id": "bps7y5GD2v7I"
      }
    },
    {
      "cell_type": "code",
      "source": [
        "common_protocols = []\n",
        "common_protocols.append(\"Telnet\")\n",
        "common_protocols.append(\"FTP\")\n",
        "common_protocols.append(\"SSH\")\n",
        "common_protocols.append(\"HTTP\")\n",
        "len(common_protocols)"
      ],
      "metadata": {
        "id": "1t9w0WU73D6T",
        "colab": {
          "base_uri": "https://localhost:8080/"
        },
        "outputId": "c56a2ff3-e92f-4929-e467-43a2b2300b5d"
      },
      "execution_count": null,
      "outputs": [
        {
          "output_type": "execute_result",
          "data": {
            "text/plain": [
              "4"
            ]
          },
          "metadata": {},
          "execution_count": 48
        }
      ]
    },
    {
      "cell_type": "code",
      "source": [
        "print(common_protocols)"
      ],
      "metadata": {
        "colab": {
          "base_uri": "https://localhost:8080/"
        },
        "id": "RwD3iHka69R9",
        "outputId": "b0b5ee09-5844-48f2-c696-c17e773b3293"
      },
      "execution_count": null,
      "outputs": [
        {
          "output_type": "stream",
          "name": "stdout",
          "text": [
            "['Telnet', 'FTP', 'SSH', 'HTTP']\n"
          ]
        }
      ]
    },
    {
      "cell_type": "code",
      "source": [
        "common_protocols.sort()\n",
        "print(common_protocols)"
      ],
      "metadata": {
        "colab": {
          "base_uri": "https://localhost:8080/"
        },
        "id": "PL2adpq87BWf",
        "outputId": "a0db440b-343a-4597-dca0-345210e490ad"
      },
      "execution_count": null,
      "outputs": [
        {
          "output_type": "stream",
          "name": "stdout",
          "text": [
            "['FTP', 'HTTP', 'SSH', 'Telnet']\n"
          ]
        }
      ]
    },
    {
      "cell_type": "code",
      "source": [
        "ssh_indeks = common_protocols.index('SSH')\n",
        "print(f'I listen common_protocols er \"SSH\" placeret som indeks nummer {ssh_indeks}')"
      ],
      "metadata": {
        "colab": {
          "base_uri": "https://localhost:8080/"
        },
        "id": "_zd779mc7eLM",
        "outputId": "ea611c6a-60a1-4805-d168-e3adf6ee5e29"
      },
      "execution_count": null,
      "outputs": [
        {
          "output_type": "stream",
          "name": "stdout",
          "text": [
            "I listen common_protocols er \"SSH\" placeret som indeks nummer 2\n"
          ]
        }
      ]
    },
    {
      "cell_type": "markdown",
      "source": [
        "I ovenstående linje kode kan jeg tillade mig at havde \"SSH\" i dobbelt citationstegn fordi jeg starter med enkelt. ved at bruge f i string output giver det os nogle gode muligheder se mere [her](https://docs.python.org/3/tutorial/inputoutput.html)"
      ],
      "metadata": {
        "id": "TSLQ2xyY8HDx"
      }
    },
    {
      "cell_type": "code",
      "source": [
        "common_protocols.remove('SSH')\n",
        "print(len(common_protocols))\n",
        "print(common_protocols)\n"
      ],
      "metadata": {
        "colab": {
          "base_uri": "https://localhost:8080/"
        },
        "id": "Bm4uWQ9JSQA_",
        "outputId": "88edde8f-28d0-470c-d089-30685093abbb"
      },
      "execution_count": null,
      "outputs": [
        {
          "output_type": "stream",
          "name": "stdout",
          "text": [
            "3\n",
            "['FTP', 'HTTP', 'Telnet']\n"
          ]
        }
      ]
    },
    {
      "cell_type": "markdown",
      "source": [
        "Vi kan bruge en løkke (for loop) til at gå gennem alle elementerne"
      ],
      "metadata": {
        "id": "O2l7dsP4S2i3"
      }
    },
    {
      "cell_type": "code",
      "source": [
        "print(type(common_protocols))\n",
        "print(10*\"-\" + \" Begin loop \" + 10* \"-\")\n",
        "for protocol in common_protocols:\n",
        "  print(protocol)\n",
        "  print(type(protocol))"
      ],
      "metadata": {
        "colab": {
          "base_uri": "https://localhost:8080/"
        },
        "id": "6XswmsdYS2N-",
        "outputId": "9ca101e8-d5e9-4326-8e12-5c1cc815b2b8"
      },
      "execution_count": null,
      "outputs": [
        {
          "output_type": "stream",
          "name": "stdout",
          "text": [
            "<class 'list'>\n",
            "---------- Begin loop ----------\n",
            "FTP\n",
            "<class 'str'>\n",
            "HTTP\n",
            "<class 'str'>\n",
            "Telnet\n",
            "<class 'str'>\n"
          ]
        }
      ]
    },
    {
      "cell_type": "code",
      "source": [
        "print(type(common_protocols))\n",
        "print(10*\"-\" + \" Begin loop \" + 10* \"-\")\n",
        "for protocol in common_protocols:\n",
        "  print(protocol)\n",
        "  for char in protocol:\n",
        "    print(char)"
      ],
      "metadata": {
        "colab": {
          "base_uri": "https://localhost:8080/"
        },
        "id": "E5Z9rk91T4Qt",
        "outputId": "ec7a683a-871e-4f73-971d-50037b4270c3"
      },
      "execution_count": null,
      "outputs": [
        {
          "output_type": "stream",
          "name": "stdout",
          "text": [
            "<class 'list'>\n",
            "---------- Begin loop ----------\n",
            "FTP\n",
            "F\n",
            "T\n",
            "P\n",
            "HTTP\n",
            "H\n",
            "T\n",
            "T\n",
            "P\n",
            "Telnet\n",
            "T\n",
            "e\n",
            "l\n",
            "n\n",
            "e\n",
            "t\n"
          ]
        }
      ]
    }
  ]
}